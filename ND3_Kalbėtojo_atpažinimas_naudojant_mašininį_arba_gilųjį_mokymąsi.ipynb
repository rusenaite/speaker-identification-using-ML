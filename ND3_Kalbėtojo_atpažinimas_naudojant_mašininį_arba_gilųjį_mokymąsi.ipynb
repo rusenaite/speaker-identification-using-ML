{
  "nbformat": 4,
  "nbformat_minor": 0,
  "metadata": {
    "colab": {
      "provenance": []
    },
    "kernelspec": {
      "name": "python3",
      "display_name": "Python 3"
    },
    "language_info": {
      "name": "python"
    }
  },
  "cells": [
    {
      "cell_type": "markdown",
      "source": [
        "# Kalbėtojo atpažinimas naudojant mašininį mokymąsi"
      ],
      "metadata": {
        "id": "YuiXyoiaiWjq"
      }
    },
    {
      "cell_type": "code",
      "execution_count": 6,
      "metadata": {
        "colab": {
          "base_uri": "https://localhost:8080/"
        },
        "id": "oO6EpZd1cgo6",
        "outputId": "499399df-43b9-4d6b-a926-34a604f25035"
      },
      "outputs": [
        {
          "output_type": "stream",
          "name": "stdout",
          "text": [
            "Accuracy: 100.00%\n"
          ]
        }
      ],
      "source": [
        "import os\n",
        "import numpy as np\n",
        "import librosa\n",
        "from glob import glob\n",
        "from sklearn.model_selection import train_test_split\n",
        "from sklearn.preprocessing import LabelEncoder, StandardScaler\n",
        "from sklearn.svm import SVC\n",
        "from sklearn.metrics import accuracy_score\n",
        "import warnings\n",
        "warnings.filterwarnings(\"ignore\", category=UserWarning)\n",
        "\n",
        "# Features from short signals with zero-padding\n",
        "def extract_features(file_path):\n",
        "    y, sr = librosa.load(file_path, sr=None)\n",
        "    min_len = 2048  # minimum for n_fft functions\n",
        "    if len(y) < min_len:\n",
        "        y = np.pad(y, (0, min_len - len(y)))\n",
        "\n",
        "    mfcc = librosa.feature.mfcc(y=y, sr=sr, n_mfcc=13, n_fft=512)\n",
        "    chroma = librosa.feature.chroma_stft(y=y, sr=sr, n_fft=512)\n",
        "\n",
        "    y_harm = librosa.effects.harmonic(y)\n",
        "    if len(y_harm) < min_len:\n",
        "        y_harm = np.pad(y_harm, (0, min_len - len(y_harm)))\n",
        "    tonnetz = librosa.feature.tonnetz(y=y_harm, sr=sr)\n",
        "\n",
        "    features = np.hstack([\n",
        "        np.mean(mfcc, axis=1), np.std(mfcc, axis=1),\n",
        "        np.mean(chroma, axis=1), np.std(chroma, axis=1),\n",
        "        np.mean(tonnetz, axis=1), np.std(tonnetz, axis=1)\n",
        "    ])\n",
        "    return features\n",
        "\n",
        "# Load dataset\n",
        "X, y = [], []\n",
        "audio_files = glob(\"/content/drive/MyDrive/MSc Vilnius TECH/II Semester/Šnekos analizė/dataset/*/*.wav\")  # <- pakeisk jei tavo kelias kitoks\n",
        "\n",
        "for path in audio_files:\n",
        "    label = os.path.basename(os.path.dirname(path))\n",
        "    features = extract_features(path)\n",
        "    X.append(features)\n",
        "    y.append(label)\n",
        "\n",
        "# Encode and prepare\n",
        "X = np.array(X)\n",
        "y = LabelEncoder().fit_transform(y)\n",
        "X_train, X_test, y_train, y_test = train_test_split(X, y, test_size=0.2, random_state=42)\n",
        "\n",
        "scaler = StandardScaler()\n",
        "X_train = scaler.fit_transform(X_train)\n",
        "X_test = scaler.transform(X_test)\n",
        "\n",
        "# Train & evaluate SVM\n",
        "clf = SVC(kernel='linear')\n",
        "clf.fit(X_train, y_train)\n",
        "y_pred = clf.predict(X_test)\n",
        "acc = accuracy_score(y_test, y_pred)\n",
        "print(f\"Accuracy: {acc * 100:.2f}%\")\n"
      ]
    },
    {
      "cell_type": "markdown",
      "source": [
        "## Gauti rezultatai po apmokymo"
      ],
      "metadata": {
        "id": "e9aPZUerTa7H"
      }
    },
    {
      "cell_type": "code",
      "source": [
        "from sklearn.metrics import confusion_matrix, classification_report\n",
        "import matplotlib.pyplot as plt\n",
        "import seaborn as sns\n",
        "\n",
        "# Confusion matrix\n",
        "cm = confusion_matrix(y_test, y_pred)\n",
        "plt.figure(figsize=(8, 6))\n",
        "sns.heatmap(cm, annot=True, fmt='d', cmap='Blues', xticklabels=np.unique(y), yticklabels=np.unique(y))\n",
        "plt.xlabel('Predicted')\n",
        "plt.ylabel('True')\n",
        "plt.title('Confusion Matrix')\n",
        "plt.show()\n",
        "\n",
        "# Classification report\n",
        "print(\"\\nClassification Report:\")\n",
        "print(classification_report(y_test, y_pred))"
      ],
      "metadata": {
        "colab": {
          "base_uri": "https://localhost:8080/",
          "height": 910
        },
        "id": "olb96lhQSMH_",
        "outputId": "3109c0f3-217e-4604-a7b8-cbed378aa5ec"
      },
      "execution_count": 11,
      "outputs": [
        {
          "output_type": "display_data",
          "data": {
            "text/plain": [
              "<Figure size 800x600 with 2 Axes>"
            ],
            "image/png": "[encoded data removed]"
          },
          "metadata": {}
        },
        {
          "output_type": "stream",
          "name": "stdout",
          "text": [
            "\n",
            "Classification Report:\n",
            "              precision    recall  f1-score   support\n",
            "\n",
            "           0       1.00      1.00      1.00        21\n",
            "           1       1.00      1.00      1.00        23\n",
            "           2       1.00      1.00      1.00        13\n",
            "           3       1.00      1.00      1.00        25\n",
            "           4       1.00      1.00      1.00        22\n",
            "           5       1.00      1.00      1.00        15\n",
            "           6       1.00      1.00      1.00        21\n",
            "           7       1.00      1.00      1.00        27\n",
            "           8       1.00      1.00      1.00        13\n",
            "           9       1.00      1.00      1.00        20\n",
            "\n",
            "    accuracy                           1.00       200\n",
            "   macro avg       1.00      1.00      1.00       200\n",
            "weighted avg       1.00      1.00      1.00       200\n",
            "\n"
          ]
        }
      ]
    },
    {
      "cell_type": "code",
      "source": [
        "from sklearn.model_selection import cross_val_score\n",
        "scores = cross_val_score(clf, X, y, cv=5)\n",
        "print(f\"Cross-val accuracy: {np.mean(scores):.2f} ± {np.std(scores):.2f}\")"
      ],
      "metadata": {
        "colab": {
          "base_uri": "https://localhost:8080/"
        },
        "id": "F_pF9IlHScf4",
        "outputId": "fa658278-c61e-4fc3-f1fc-3faddc39df7c"
      },
      "execution_count": 12,
      "outputs": [
        {
          "output_type": "stream",
          "name": "stdout",
          "text": [
            "Cross-val accuracy: 1.00 ± 0.00\n"
          ]
        }
      ]
    },
    {
      "cell_type": "markdown",
      "source": [
        "## *White noise* pridėjimas"
      ],
      "metadata": {
        "id": "a5cR9SLjTMZF"
      }
    },
    {
      "cell_type": "code",
      "source": [
        "# Add white noise to test features\n",
        "def add_noise(features, noise_level=0.05):\n",
        "    noise = np.random.normal(0, noise_level, features.shape)\n",
        "    return features + noise\n",
        "\n",
        "X_test_noisy = add_noise(X_test, noise_level=2)\n",
        "\n",
        "# Evaluate on noisy data\n",
        "y_pred_noisy = clf.predict(X_test_noisy)\n",
        "acc_noisy = accuracy_score(y_test, y_pred_noisy)\n",
        "print(f\"Noisy accuracy: {acc_noisy * 100:.2f}%\")\n"
      ],
      "metadata": {
        "colab": {
          "base_uri": "https://localhost:8080/"
        },
        "id": "ovxk9jdVSnSl",
        "outputId": "ba2adaa3-b0b9-49f2-a0a5-725316e99a21"
      },
      "execution_count": 17,
      "outputs": [
        {
          "output_type": "stream",
          "name": "stdout",
          "text": [
            "Noisy accuracy: 79.50%\n"
          ]
        }
      ]
    }
  ]
}